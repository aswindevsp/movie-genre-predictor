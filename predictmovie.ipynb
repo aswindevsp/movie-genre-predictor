{
  "cells": [
    {
      "cell_type": "markdown",
      "metadata": {
        "id": "dpZHIL_htBZV"
      },
      "source": [
        "MOVIE NAME GENRE PREDICTION"
      ]
    },
    {
      "cell_type": "code",
      "execution_count": null,
      "metadata": {
        "id": "41b1VuaVEw6P"
      },
      "outputs": [],
      "source": [
        "!pip install anvil-uplink"
      ]
    },
    {
      "cell_type": "code",
      "execution_count": null,
      "metadata": {
        "id": "H3SYkNaoFEXb"
      },
      "outputs": [],
      "source": [
        "import anvil.server"
      ]
    },
    {
      "cell_type": "code",
      "execution_count": null,
      "metadata": {
        "id": "dikh3ruLFJIM"
      },
      "outputs": [],
      "source": [
        "anvil.server.connect(\"JJT2WOLRMJVPGCIFX6KTN75J-LWP5BDORWVTX3NDM\")"
      ]
    },
    {
      "cell_type": "code",
      "execution_count": null,
      "metadata": {
        "id": "z-m_VoN-3dTX"
      },
      "outputs": [],
      "source": [
        "import pandas as pd \n",
        "import numpy as np\n",
        "from sklearn.feature_extraction.text import CountVectorizer\n",
        "from sklearn.model_selection import train_test_split\n",
        "from sklearn.naive_bayes import MultinomialNB\n",
        "import pickle\n",
        "import random"
      ]
    },
    {
      "cell_type": "code",
      "execution_count": null,
      "metadata": {
        "id": "5v9shyn23dTb"
      },
      "outputs": [],
      "source": [
        "df = pd.read_csv('movies.csv')"
      ]
    },
    {
      "cell_type": "code",
      "execution_count": null,
      "metadata": {
        "id": "Trc8oPSP3dTc"
      },
      "outputs": [],
      "source": [
        "# Cleaning Movie Names\n",
        "\n",
        "num = 0\n",
        "for i in df['title']:\n",
        "    temp = i.split(' (2')[0]\n",
        "    df.loc[num, 'title'] = temp\n",
        "    num = num + 1\n",
        "\n",
        "num = 0\n",
        "for i in df['title']:\n",
        "    temp = i.split(' (1')[0]\n",
        "    df.loc[num, 'title'] = temp\n",
        "    num = num + 1"
      ]
    },
    {
      "cell_type": "code",
      "execution_count": null,
      "metadata": {
        "id": "sX6X7ck53dTe"
      },
      "outputs": [],
      "source": [
        "# for removing genres expecept the first one\n",
        "\n",
        "for i in range(0, 58098):\n",
        "    temp = df.loc[i, 'genres']\n",
        "    df.loc[i, 'genres'] = temp.split('|')[0]"
      ]
    },
    {
      "cell_type": "code",
      "execution_count": null,
      "metadata": {
        "id": "_sZadNUv3dTg"
      },
      "outputs": [],
      "source": [
        "from sklearn.feature_extraction.text import CountVectorizer\n",
        "\n",
        "# Initialize and fit CountVectorizer with given text documents\n",
        "vectorizer = CountVectorizer().fit(df['title'])\n",
        "\n",
        "# use the vectorizer to transform the document into word count vectors (Sparse)\n",
        "word_mat = vectorizer.transform(df['title'])"
      ]
    },
    {
      "cell_type": "code",
      "execution_count": null,
      "metadata": {
        "id": "CXc4YHbT3dTh"
      },
      "outputs": [],
      "source": [
        "from sklearn.preprocessing import OrdinalEncoder\n",
        "\n",
        "# creating mapping from unique label texts to unique integers\n",
        "# note this can be re-used to encode and decode the labels after as well\n",
        "encoder = OrdinalEncoder().fit(df[['genres']])\n",
        "\n",
        "# using the encoder to encode the entire dataset\n",
        "y = encoder.transform(df[['genres']])"
      ]
    },
    {
      "cell_type": "code",
      "execution_count": null,
      "metadata": {
        "id": "jljRNaQB3dTi"
      },
      "outputs": [],
      "source": [
        "#Splitting dataset\n",
        "\n",
        "x_train, x_test, y_train, y_test = train_test_split(word_mat, y, test_size=0.3)"
      ]
    },
    {
      "cell_type": "code",
      "execution_count": null,
      "metadata": {
        "id": "bku-AyEw3dTj"
      },
      "outputs": [],
      "source": [
        "\n",
        "\n",
        "# instantiate the model as clf(classifier) and train it\n",
        "clf = MultinomialNB()\n",
        "clf.fit(x_train, y_train)"
      ]
    },
    {
      "cell_type": "code",
      "execution_count": null,
      "metadata": {
        "colab": {
          "base_uri": "https://localhost:8080/"
        },
        "id": "PEckuQly3dTk",
        "outputId": "80a689bd-ba33-4544-d4ad-5388d3aabe02"
      },
      "outputs": [
        {
          "data": {
            "text/plain": [
              "0.3359150889271371"
            ]
          },
          "execution_count": 37,
          "metadata": {},
          "output_type": "execute_result"
        }
      ],
      "source": [
        "# Testing model accuracy\n",
        "clf.score(x_test, y_test)\n"
      ]
    },
    {
      "cell_type": "code",
      "execution_count": null,
      "metadata": {
        "id": "zxekl-nL3dTn"
      },
      "outputs": [],
      "source": [
        "#Saving model as finalized_mode.sav\n",
        "\n",
        "filename = 'finalized_model.sav'\n",
        "pickle.dump(clf, open(filename, 'wb'))"
      ]
    },
    {
      "cell_type": "code",
      "execution_count": null,
      "metadata": {
        "id": "8JRdghQN3dTo"
      },
      "outputs": [],
      "source": [
        "#Loding previously saved model\n",
        "\n",
        "filename = 'finalized_model.sav'\n",
        "loaded_model = pickle.load(open(filename, 'rb'))"
      ]
    },
    {
      "cell_type": "code",
      "execution_count": 2,
      "metadata": {
        "id": "1UNJ0zYTGHhe"
      },
      "outputs": [],
      "source": [
        "@anvil.server.callable\n",
        "def predictgenre(name):\n",
        "   \n",
        "   revGenreMap = {1: 'Adventure',2: 'Comedy',3: 'Action',4: 'Drama',5: 'Crime', 6:'Children',\n",
        "       7:'Mystery',8: 'Documentary',9: 'Animation',10: 'Thriller',11: 'Horror',\n",
        "       12:'Fantasy',13: 'Western',14: 'Film-Noir',15: 'Romance', 16:'War', 17:'Sci-Fi',\n",
        "       18:'Musical',19: 'IMAX',20: '(no genres listed)'}\n",
        "\n",
        "   csvUrl = \"https://github.com/aswindevsp/movie-genre-predictor/raw/main/movies.csv\"\n",
        "   modelUrl = \"https://github.com/aswindevsp/movie-genre-predictor/raw/main/finalized_model.sav\"\n",
        "   df = pd.read_csv(url)\n",
        "\n",
        "   filename = modelUrl\n",
        "   loaded_model = pickle.load(open(filename, 'rb'))\n",
        "\n",
        "   vectorizer = CountVectorizer().fit(df['title'])\n",
        "   word_mat1 = vectorizer.transform([name])\n",
        "   x = clf.predict(word_mat1[0])\n",
        "   genre = revGenreMap[x[0]]\n",
        "   return genre;"
      ]
    },
    {
      "cell_type": "markdown",
      "metadata": {
        "id": "bbDswsR7rNbR"
      },
      "source": [
        "When the server below is called, head on to <br>\n",
        "https://movie-name-genre-prediction.anvil.app\n"
      ]
    },
    {
      "cell_type": "code",
      "execution_count": null,
      "metadata": {
        "id": "qWGi9AI8G7JV"
      },
      "outputs": [],
      "source": [
        "anvil.server.wait_forever()"
      ]
    }
  ],
  "metadata": {
    "colab": {
      "collapsed_sections": [],
      "name": "predictmovie.ipynb",
      "provenance": []
    },
    "interpreter": {
      "hash": "916dbcbb3f70747c44a77c7bcd40155683ae19c65e1c03b4aa3499c5328201f1"
    },
    "kernelspec": {
      "display_name": "Python 3.8.10 64-bit",
      "language": "python",
      "name": "python3"
    },
    "language_info": {
      "codemirror_mode": {
        "name": "ipython",
        "version": 3
      },
      "file_extension": ".py",
      "mimetype": "text/x-python",
      "name": "python",
      "nbconvert_exporter": "python",
      "pygments_lexer": "ipython3",
      "version": "3.8.10"
    }
  },
  "nbformat": 4,
  "nbformat_minor": 0
}
