{
  "cells": [
    {
      "cell_type": "markdown",
      "source": [
        "MOVIE NAME GENRE PREDICTION"
      ],
      "metadata": {
        "id": "dpZHIL_htBZV"
      }
    },
    {
      "cell_type": "code",
      "source": [
        "!pip install anvil-uplink"
      ],
      "metadata": {
        "id": "41b1VuaVEw6P"
      },
      "execution_count": null,
      "outputs": []
    },
    {
      "cell_type": "code",
      "source": [
        "import anvil.server"
      ],
      "metadata": {
        "id": "H3SYkNaoFEXb"
      },
      "execution_count": null,
      "outputs": []
    },
    {
      "cell_type": "code",
      "source": [
        "anvil.server.connect(\"JJT2WOLRMJVPGCIFX6KTN75J-LWP5BDORWVTX3NDM\")"
      ],
      "metadata": {
        "id": "dikh3ruLFJIM"
      },
      "execution_count": null,
      "outputs": []
    },
    {
      "cell_type": "code",
      "execution_count": null,
      "metadata": {
        "id": "z-m_VoN-3dTX"
      },
      "outputs": [],
      "source": [
        "import pandas as pd \n",
        "import numpy as np\n",
        "from sklearn.feature_extraction.text import CountVectorizer\n",
        "from sklearn.model_selection import train_test_split\n",
        "from sklearn.naive_bayes import MultinomialNB\n",
        "import pickle\n",
        "import random"
      ]
    },
    {
      "cell_type": "code",
      "execution_count": null,
      "metadata": {
        "id": "5v9shyn23dTb"
      },
      "outputs": [],
      "source": [
        "df = pd.read_csv('movies.csv')"
      ]
    },
    {
      "cell_type": "code",
      "execution_count": null,
      "metadata": {
        "id": "Trc8oPSP3dTc"
      },
      "outputs": [],
      "source": [
        "# Cleaning Movie Names\n",
        "\n",
        "num = 0\n",
        "for i in df['title']:\n",
        "    temp = i.split(' (2')[0]\n",
        "    df.loc[num, 'title'] = temp\n",
        "    num = num + 1\n",
        "\n",
        "num = 0\n",
        "for i in df['title']:\n",
        "    temp = i.split(' (1')[0]\n",
        "    df.loc[num, 'title'] = temp\n",
        "    num = num + 1"
      ]
    },
    {
      "cell_type": "code",
      "execution_count": null,
      "metadata": {
        "id": "sX6X7ck53dTe"
      },
      "outputs": [],
      "source": [
        "# for removing genres expecept the first one\n",
        "\n",
        "for i in range(0, 58098):\n",
        "    temp = df.loc[i, 'genres']\n",
        "    df.loc[i, 'genres'] = temp.split('|')[0]"
      ]
    },
    {
      "cell_type": "code",
      "execution_count": null,
      "metadata": {
        "id": "_sZadNUv3dTg"
      },
      "outputs": [],
      "source": [
        "from sklearn.feature_extraction.text import CountVectorizer\n",
        "\n",
        "# Initialize and fit CountVectorizer with given text documents\n",
        "vectorizer = CountVectorizer().fit(df['title'])\n",
        "\n",
        "# use the vectorizer to transform the document into word count vectors (Sparse)\n",
        "word_mat = vectorizer.transform(df['title'])"
      ]
    },
    {
      "cell_type": "code",
      "execution_count": null,
      "metadata": {
        "id": "CXc4YHbT3dTh"
      },
      "outputs": [],
      "source": [
        "from sklearn.preprocessing import OrdinalEncoder\n",
        "\n",
        "# creating mapping from unique label texts to unique integers\n",
        "# note this can be re-used to encode and decode the labels after as well\n",
        "encoder = OrdinalEncoder().fit(df[['genres']])\n",
        "\n",
        "# using the encoder to encode the entire dataset\n",
        "y = encoder.transform(df[['genres']])"
      ]
    },
    {
      "cell_type": "code",
      "execution_count": null,
      "metadata": {
        "id": "jljRNaQB3dTi"
      },
      "outputs": [],
      "source": [
        "#Splitting dataset\n",
        "\n",
        "x_train, x_test, y_train, y_test = train_test_split(word_mat, y, test_size=0.3)"
      ]
    },
    {
      "cell_type": "code",
      "execution_count": null,
      "metadata": {
        "id": "bku-AyEw3dTj"
      },
      "outputs": [],
      "source": [
        "\n",
        "\n",
        "# instantiate the model as clf(classifier) and train it\n",
        "clf = MultinomialNB()\n",
        "clf.fit(x_train, y_train)"
      ]
    },
    {
      "cell_type": "code",
      "execution_count": null,
      "metadata": {
        "id": "PEckuQly3dTk",
        "colab": {
          "base_uri": "https://localhost:8080/"
        },
        "outputId": "80a689bd-ba33-4544-d4ad-5388d3aabe02"
      },
      "outputs": [
        {
          "output_type": "execute_result",
          "data": {
            "text/plain": [
              "0.3359150889271371"
            ]
          },
          "metadata": {},
          "execution_count": 37
        }
      ],
      "source": [
        "# Testing model accuracy\n",
        "clf.score(x_test, y_test)\n"
      ]
    },
    {
      "cell_type": "code",
      "execution_count": null,
      "metadata": {
        "id": "zxekl-nL3dTn"
      },
      "outputs": [],
      "source": [
        "#Saving model as finalized_mode.sav\n",
        "\n",
        "filename = 'finalized_model.sav'\n",
        "pickle.dump(clf, open(filename, 'wb'))"
      ]
    },
    {
      "cell_type": "code",
      "execution_count": null,
      "metadata": {
        "id": "8JRdghQN3dTo"
      },
      "outputs": [],
      "source": [
        "#Loding previously saved model\n",
        "\n",
        "filename = 'finalized_model.sav'\n",
        "loaded_model = pickle.load(open(filename, 'rb'))"
      ]
    },
    {
      "cell_type": "code",
      "source": [
        "@anvil.server.callable\n",
        "def predictgenre(name):\n",
        "   return genre
      ],
      "metadata": {
        "id": "1UNJ0zYTGHhe"
      },
      "execution_count": null,
      "outputs": []
    },
    {
      "cell_type": "markdown",
      "source": [
        "When the server below is called, head on to <br>\n",
        "https://movie-name-genre-prediction.anvil.app\n"
      ],
      "metadata": {
        "id": "bbDswsR7rNbR"
      }
    },
    {
      "cell_type": "code",
      "source": [
        "anvil.server.wait_forever()"
      ],
      "metadata": {
        "id": "qWGi9AI8G7JV"
      },
      "execution_count": null,
      "outputs": []
    }
  ],
  "metadata": {
    "colab": {
      "name": "predictmovie.ipynb",
      "provenance": [],
      "collapsed_sections": []
    },
    "interpreter": {
      "hash": "916dbcbb3f70747c44a77c7bcd40155683ae19c65e1c03b4aa3499c5328201f1"
    },
    "kernelspec": {
      "display_name": "Python 3.8.10 64-bit",
      "language": "python",
      "name": "python3"
    },
    "language_info": {
      "codemirror_mode": {
        "name": "ipython",
        "version": 3
      },
      "file_extension": ".py",
      "mimetype": "text/x-python",
      "name": "python",
      "nbconvert_exporter": "python",
      "pygments_lexer": "ipython3",
      "version": "3.8.10"
    }
  },
  "nbformat": 4,
  "nbformat_minor": 0
}
