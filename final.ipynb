{
 "cells": [
  {
   "cell_type": "code",
   "execution_count": 1,
   "metadata": {},
   "outputs": [],
   "source": [
    "import pandas as pd \n",
    "import numpy as np\n",
    "from sklearn.feature_extraction.text import CountVectorizer\n",
    "from sklearn.model_selection import train_test_split\n",
    "from sklearn.naive_bayes import MultinomialNB\n",
    "import pickle"
   ]
  },
  {
   "cell_type": "code",
   "execution_count": 2,
   "metadata": {},
   "outputs": [],
   "source": [
    "df = pd.read_csv('movies.csv')"
   ]
  },
  {
   "cell_type": "code",
   "execution_count": 3,
   "metadata": {},
   "outputs": [],
   "source": [
    "# Cleaning Movie Names\n",
    "\n",
    "num = 0\n",
    "for i in df['title']:\n",
    "    temp = i.split(' (2')[0]\n",
    "    df.loc[num, 'title'] = temp\n",
    "    num = num + 1\n",
    "\n",
    "num = 0\n",
    "for i in df['title']:\n",
    "    temp = i.split(' (1')[0]\n",
    "    df.loc[num, 'title'] = temp\n",
    "    num = num + 1"
   ]
  },
  {
   "cell_type": "code",
   "execution_count": 4,
   "metadata": {},
   "outputs": [],
   "source": [
    "# for removing genres expecept the first one\n",
    "num = 0\n",
    "for i in df['genres']:\n",
    "    df.loc[num, 'genres'] = i.split('|')[0]\n",
    "    num = num + 1"
   ]
  },
  {
   "cell_type": "code",
   "execution_count": 5,
   "metadata": {},
   "outputs": [],
   "source": [
    "# Genre Mapping\n",
    "\n",
    "genreMap = {'Adventure':1, 'Comedy':2, 'Action':3, 'Drama':4, 'Crime':5, 'Children':6,\n",
    "       'Mystery':7, 'Documentary':8, 'Animation':9, 'Thriller':10, 'Horror':11,\n",
    "       'Fantasy':12, 'Western':13, 'Film-Noir':14, 'Romance':15, 'War':16, 'Sci-Fi':17,\n",
    "       'Musical':18, 'IMAX':19, '(no genres listed)':20}\n",
    "\n",
    "df['genres'] = df['genres'].map(genreMap)\n",
    "\n",
    "y = df['genres'].values"
   ]
  },
  {
   "cell_type": "code",
   "execution_count": 6,
   "metadata": {},
   "outputs": [],
   "source": [
    "from sklearn.feature_extraction.text import CountVectorizer\n",
    "\n",
    "# Initialize and fit CountVectorizer with given text documents\n",
    "vectorizer = CountVectorizer().fit(df['title'])\n",
    "\n",
    "# use the vectorizer to transform the document into word count vectors (Sparse)\n",
    "word_mat = vectorizer.transform(df['title'])"
   ]
  },
  {
   "cell_type": "code",
   "execution_count": 7,
   "metadata": {},
   "outputs": [],
   "source": [
    "#Splitting dataset\n",
    "\n",
    "x_train, x_test, y_train, y_test = train_test_split(word_mat, y, test_size=0.3)"
   ]
  },
  {
   "cell_type": "code",
   "execution_count": 8,
   "metadata": {},
   "outputs": [
    {
     "data": {
      "text/plain": [
       "MultinomialNB()"
      ]
     },
     "execution_count": 8,
     "metadata": {},
     "output_type": "execute_result"
    }
   ],
   "source": [
    "# instantiate the model as clf(classifier) and train it\n",
    "clf = MultinomialNB()\n",
    "clf.fit(x_train, y_train)"
   ]
  },
  {
   "cell_type": "code",
   "execution_count": 9,
   "metadata": {},
   "outputs": [
    {
     "data": {
      "text/plain": [
       "0.3417096959265634"
      ]
     },
     "execution_count": 9,
     "metadata": {},
     "output_type": "execute_result"
    }
   ],
   "source": [
    "# Testing model accuracy\n",
    "clf.score(x_test, y_test)"
   ]
  },
  {
   "cell_type": "code",
   "execution_count": null,
   "metadata": {},
   "outputs": [],
   "source": [
    "#Saving model as finalized_mode.sav\n",
    "\n",
    "filename = 'finalized_model.sav'\n",
    "pickle.dump(clf, open(filename, 'wb'))"
   ]
  },
  {
   "cell_type": "code",
   "execution_count": null,
   "metadata": {},
   "outputs": [],
   "source": [
    "#Loding previously saved model\n",
    "\n",
    "filename = 'finalized_model.sav'\n",
    "clf = pickle.load(open(filename, 'rb'))"
   ]
  },
  {
   "cell_type": "code",
   "execution_count": 10,
   "metadata": {},
   "outputs": [],
   "source": [
    "\n",
    "revGenreMap = {1: 'Adventure',2: 'Comedy',3: 'Action',4: 'Drama',5: 'Crime', 6:'Children',\n",
    "       7:'Mystery',8: 'Documentary',9: 'Animation',10: 'Thriller',11: 'Horror',\n",
    "       12:'Fantasy',13: 'Western',14: 'Film-Noir',15: 'Romance', 16:'War', 17:'Sci-Fi',\n",
    "       18:'Musical',19: 'IMAX',20: '(no genres listed)'}"
   ]
  },
  {
   "cell_type": "code",
   "execution_count": null,
   "metadata": {},
   "outputs": [],
   "source": [
    "# Predicting for custom inputs\n",
    "movie = input(\"Enter a movie name: \")\n",
    "vectorizer = CountVectorizer().fit(df['title'])\n",
    "word_mat1 = vectorizer.transform([movie])\n",
    "x = clf.predict(word_mat1[0])\n",
    "print(revGenreMap[x[0]])"
   ]
  }
 ],
 "metadata": {
  "interpreter": {
   "hash": "916dbcbb3f70747c44a77c7bcd40155683ae19c65e1c03b4aa3499c5328201f1"
  },
  "kernelspec": {
   "display_name": "Python 3.8.10 64-bit",
   "language": "python",
   "name": "python3"
  },
  "language_info": {
   "codemirror_mode": {
    "name": "ipython",
    "version": 3
   },
   "file_extension": ".py",
   "mimetype": "text/x-python",
   "name": "python",
   "nbconvert_exporter": "python",
   "pygments_lexer": "ipython3",
   "version": "3.8.10"
  },
  "orig_nbformat": 4
 },
 "nbformat": 4,
 "nbformat_minor": 2
}
